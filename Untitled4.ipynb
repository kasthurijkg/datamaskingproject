{
  "nbformat": 4,
  "nbformat_minor": 0,
  "metadata": {
    "colab": {
      "provenance": [],
      "authorship_tag": "ABX9TyNMKo6WEy9DUJ/qIFn5EWiV",
      "include_colab_link": true
    },
    "kernelspec": {
      "name": "python3",
      "display_name": "Python 3"
    },
    "language_info": {
      "name": "python"
    }
  },
  "cells": [
    {
      "cell_type": "markdown",
      "metadata": {
        "id": "view-in-github",
        "colab_type": "text"
      },
      "source": [
        "<a href=\"https://colab.research.google.com/github/kasthurijkg/datamaskingproject/blob/master/Untitled4.ipynb\" target=\"_parent\"><img src=\"https://colab.research.google.com/assets/colab-badge.svg\" alt=\"Open In Colab\"/></a>"
      ]
    },
    {
      "cell_type": "code",
      "execution_count": 4,
      "metadata": {
        "colab": {
          "base_uri": "https://localhost:8080/"
        },
        "id": "dIANziA9du9-",
        "outputId": "717766ce-9c2c-489b-a6df-065e0f192242"
      },
      "outputs": [
        {
          "output_type": "stream",
          "name": "stdout",
          "text": [
            "n4dek36@gmail.com\n",
            "n3e46kd@gmail.com\n",
            "47dl7ae@gmail.cmm\n",
            "a6g43igr@gmail.com\n",
            "gin89k4@gmail.cfm\n",
            "4e5h8nb@gmail.cmm\n",
            "l1a74vi@gmail.cfm\n",
            "m8ea9j1@gmail.com\n",
            "b6sa19s@gmail.cfm\n",
            "alr84a7@gmail.cmm\n",
            "i1mt10s@gmail.com\n"
          ]
        }
      ],
      "source": [
        "import openpyxl\n",
        "import random\n",
        "def mask_email(email):\n",
        "    username,domain = email.split('@')\n",
        "    username_list = list(username)\n",
        "    random.shuffle(username_list)\n",
        "    masked_username = ''.join(username_list)\n",
        "    return f\"{masked_username}@{domain}\"\n",
        "workbook = openpyxl.load_workbook('example.xlsx')\n",
        "worksheet = workbook.active\n",
        "for row in worksheet.iter_rows():\n",
        "    email = row[10].value  \n",
        "    masked_email = mask_email(email)\n",
        "    row[10].value = masked_email\n",
        "    \n",
        "workbook.save('output_file.xlsx')\n",
        "\n"
      ]
    },
    {
      "cell_type": "code",
      "source": [
        "import openpyxl\n",
        "import random\n",
        "\n",
        "\n",
        "# Load the Excel file\n",
        "workbook = openpyxl.load_workbook('maskinginput.xlsx')\n",
        "worksheet = workbook.active\n",
        "\n",
        "# Iterate through each row and mask the email address in the specified column\n",
        "for row in worksheet.iter_rows():\n",
        "  email = row[10].value  # Change '1' to the index of the column containing email addresses\n",
        "  print(email)"
      ],
      "metadata": {
        "colab": {
          "base_uri": "https://localhost:8080/"
        },
        "id": "gS9ca1cAf5Fr",
        "outputId": "16d67e85-32ab-4c2a-d1ba-c06d24742ffa"
      },
      "execution_count": null,
      "outputs": [
        {
          "output_type": "stream",
          "name": "stdout",
          "text": [
            "Email address\n",
            "kend634@gmail.com\n",
            "lead774@gmail.cmm\n",
            "graig634@gmail.com\n",
            "king489@gmail.cfm\n",
            "behn854@gmail.cmm\n",
            "lavi714@gmail.cfm\n",
            "jame891@gmail.com\n",
            "bass196@gmail.cfm\n",
            "lara478@gmail.cmm\n",
            "smit110@gmail.com\n"
          ]
        }
      ]
    },
    {
      "cell_type": "code",
      "source": [],
      "metadata": {
        "colab": {
          "base_uri": "https://localhost:8080/"
        },
        "id": "RQe2w5IagLPD",
        "outputId": "bed56f61-5ceb-424a-cd52-803743ebf084"
      },
      "execution_count": null,
      "outputs": [
        {
          "output_type": "stream",
          "name": "stdout",
          "text": [
            "<Worksheet \"real_data\">\n"
          ]
        }
      ]
    },
    {
      "cell_type": "code",
      "source": [
        "import openpyxl\n",
        "import pandas as pd\n",
        "\n",
        "\n",
        "def mask_email(email):\n",
        "    username,domain = email.split('@')\n",
        "    masked_username = username[:3] + '*'*(len(username)-6) + username[-3:]\n",
        "    masked_domain = domain[:3] + '*'*(len(domain)-6) + domain[-3:]\n",
        "    return f\"{masked_username}@{masked_domain}\"\n",
        "\n",
        "\n",
        "workbook = openpyxl.load_workbook('example.xlsx')\n",
        "worksheet = workbook.active\n",
        "\n",
        "\n",
        "for row in worksheet.iter_rows():\n",
        "    email = row[10].value  \n",
        "    masked_email = mask_email(email)\n",
        "    row[10].value = masked_email\n",
        "    print(email)\n",
        "    print(masked_email)\n",
        "workbook.save('output_file.xlsx')\n",
        "\n"
      ],
      "metadata": {
        "colab": {
          "base_uri": "https://localhost:8080/"
        },
        "id": "ESc7Rykn0Ft5",
        "outputId": "3b2f8c53-10c4-42ce-b65f-15525c0a5fc2"
      },
      "execution_count": 5,
      "outputs": [
        {
          "output_type": "stream",
          "name": "stdout",
          "text": [
            "kend634@gmail.com\n",
            "ken*634@gma***com\n",
            "kend634@gmail.com\n",
            "ken*634@gma***com\n",
            "lead774@gmail.cmm\n",
            "lea*774@gma***cmm\n",
            "graig634@gmail.com\n",
            "gra**634@gma***com\n",
            "king489@gmail.cfm\n",
            "kin*489@gma***cfm\n",
            "behn854@gmail.cmm\n",
            "beh*854@gma***cmm\n",
            "lavi714@gmail.cfm\n",
            "lav*714@gma***cfm\n",
            "jame891@gmail.com\n",
            "jam*891@gma***com\n",
            "bass196@gmail.cfm\n",
            "bas*196@gma***cfm\n",
            "lara478@gmail.cmm\n",
            "lar*478@gma***cmm\n",
            "smit110@gmail.com\n",
            "smi*110@gma***com\n"
          ]
        }
      ]
    }
  ]
}